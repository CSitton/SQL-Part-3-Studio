{
    "metadata": {
        "kernelspec": {
            "name": "SQL",
            "display_name": "SQL",
            "language": "sql"
        },
        "language_info": {
            "name": "sql",
            "version": ""
        },
        "extensions": {
            "azuredatastudio": {
                "version": 1,
                "views": []
            }
        }
    },
    "nbformat_minor": 2,
    "nbformat": 4,
    "cells": [
        {
            "cell_type": "markdown",
            "source": [
                "# SQL Part 3 Studio\n",
                "\n",
                "### Let's practice your SQL quering skills!  For each question, work along in the notebook adding your query and answering the questions. \n",
                "\n",
                "### **DataSet**\n",
                "\n",
                "### <span style=\"font-size: 14px; font-family: -apple-system, BlinkMacSystemFont, sans-serif;\">We will be using the Goodbooks-10k dataset from the exercises in the prep work.&nbsp; Feel free reference your previous notebooks.</span>\n",
                "\n",
                "- The dataset can be found here: [goodbooks-10k](https://www.kaggle.com/zygmunt/goodbooks-10k)\n",
                "- You can access the **BooksDB** in the Launchcode server.\n",
                "\n",
                "### **Business Issue**\n",
                "\n",
                "You are an employee at a small independet bookstore and you have been tasked to increase sales.  You decide to use the BooksDB to find books and themes to highlight in fun promotions throughout each month / season.  We will be starting with March and then you will have a chance to explore another month of your choosing.  We want to come up with a list of events/ promotions to run each month.  If you are looking for ideas to include in your promotions:\n",
                "\n",
                "- [https://www.calendarr.com/united-states/calendar-2022/](https://www.calendarr.com/united-states/calendar-2022/)\n",
                "- [https://www.holidayinsights.com/moreholidays/](https://www.holidayinsights.com/moreholidays/)\n",
                "    - Click on a month and it will take you to a more detailed page"
            ],
            "metadata": {
                "azdata_cell_guid": "b9034d8a-b631-48bf-a895-1012a6ffa784"
            }
        },
        {
            "cell_type": "markdown",
            "source": [
                "## Part 1:  March - Women's History Month, Dr Seuss Day(3/2), National Pie Day3/14, St Patrick's Day (3/17), Season - Spring"
            ],
            "metadata": {
                "azdata_cell_guid": "6e55eb1c-4a14-4076-90d2-95ed17a6309f"
            }
        },
        {
            "cell_type": "markdown",
            "source": [
                "### **Event 1:** Women's History Month\n",
                "\n",
                "Goal: Highlight Popular Womans Authors based on ratings from the Good Reads DB.\n",
                "\n",
                "### **Write a query that returns tag\\_id, the number of times each tag\\_id is used and the tag\\_name.**  \n",
                "\n",
                "### Use the GROUP BY and HAVING clause to narrow your focus.\n",
                "\n",
                "Try multiple keywords, ie woman vs female (female ended up giving better results)"
            ],
            "metadata": {
                "azdata_cell_guid": "d220c097-e9cf-4edd-9abe-312d071217b7"
            }
        },
        {
            "cell_type": "code",
            "source": [
                "SELECT bt.tag_id AS 'TAG ID', tg.tag_name AS 'TAG NAME', SUM(bt.count) AS count\r\n",
                "FROM BooksDB.dbo.book_tags AS bt\r\n",
                "INNER JOIN BooksDB.dbo.tags AS tg\r\n",
                "ON bt.tag_id=tg.tag_id\r\n",
                "GROUP BY bt.tag_id,tg.tag_name\r\n",
                "HAVING tag_name LIKE '%female%'\r\n",
                "ORDER BY count DESC;"
            ],
            "metadata": {
                "azdata_cell_guid": "e31b9d26-0386-44c7-828e-85f4f06f3ee6",
                "language": "sql"
            },
            "outputs": [
                {
                    "output_type": "display_data",
                    "data": {
                        "text/html": "(35 rows affected)"
                    },
                    "metadata": {}
                },
                {
                    "output_type": "display_data",
                    "data": {
                        "text/html": "Total execution time: 00:00:00.603"
                    },
                    "metadata": {}
                },
                {
                    "output_type": "execute_result",
                    "metadata": {},
                    "execution_count": 16,
                    "data": {
                        "application/vnd.dataresource+json": {
                            "schema": {
                                "fields": [
                                    {
                                        "name": "TAG ID"
                                    },
                                    {
                                        "name": "TAG NAME"
                                    },
                                    {
                                        "name": "count"
                                    }
                                ]
                            },
                            "data": [
                                {
                                    "TAG ID": "11643",
                                    "TAG NAME": "female-author",
                                    "count": "17999"
                                },
                                {
                                    "TAG ID": "11644",
                                    "TAG NAME": "female-authors",
                                    "count": "13690"
                                },
                                {
                                    "TAG ID": "11658",
                                    "TAG NAME": "female-protagonist",
                                    "count": "2554"
                                },
                                {
                                    "TAG ID": "11646",
                                    "TAG NAME": "female-detective",
                                    "count": "302"
                                },
                                {
                                    "TAG ID": "11656",
                                    "TAG NAME": "female-pov",
                                    "count": "155"
                                },
                                {
                                    "TAG ID": "11662",
                                    "TAG NAME": "female-writers",
                                    "count": "147"
                                },
                                {
                                    "TAG ID": "11642",
                                    "TAG NAME": "female",
                                    "count": "133"
                                },
                                {
                                    "TAG ID": "11652",
                                    "TAG NAME": "female-lead",
                                    "count": "61"
                                },
                                {
                                    "TAG ID": "28834",
                                    "TAG NAME": "strong-female-lead",
                                    "count": "61"
                                },
                                {
                                    "TAG ID": "11647",
                                    "TAG NAME": "female-detectives",
                                    "count": "59"
                                },
                                {
                                    "TAG ID": "3514",
                                    "TAG NAME": "author-female",
                                    "count": "47"
                                },
                                {
                                    "TAG ID": "28833",
                                    "TAG NAME": "strong-female-characters",
                                    "count": "30"
                                },
                                {
                                    "TAG ID": "28830",
                                    "TAG NAME": "strong-female",
                                    "count": "21"
                                },
                                {
                                    "TAG ID": "11650",
                                    "TAG NAME": "female-friendship",
                                    "count": "14"
                                },
                                {
                                    "TAG ID": "11655",
                                    "TAG NAME": "female-pi",
                                    "count": "10"
                                },
                                {
                                    "TAG ID": "11659",
                                    "TAG NAME": "female-serial-killer",
                                    "count": "8"
                                },
                                {
                                    "TAG ID": "28831",
                                    "TAG NAME": "strong-female-character",
                                    "count": "7"
                                },
                                {
                                    "TAG ID": "1741",
                                    "TAG NAME": "afghan-female-entrepreneur-under-ta",
                                    "count": "5"
                                },
                                {
                                    "TAG ID": "28835",
                                    "TAG NAME": "strong-female-protagonist",
                                    "count": "5"
                                },
                                {
                                    "TAG ID": "11648",
                                    "TAG NAME": "female-doctor",
                                    "count": "3"
                                },
                                {
                                    "TAG ID": "11653",
                                    "TAG NAME": "female-main-character",
                                    "count": "3"
                                },
                                {
                                    "TAG ID": "11660",
                                    "TAG NAME": "female-spy",
                                    "count": "3"
                                },
                                {
                                    "TAG ID": "11645",
                                    "TAG NAME": "female-biographies",
                                    "count": "2"
                                },
                                {
                                    "TAG ID": "11649",
                                    "TAG NAME": "female-fiction",
                                    "count": "2"
                                },
                                {
                                    "TAG ID": "11657",
                                    "TAG NAME": "female-povs",
                                    "count": "2"
                                },
                                {
                                    "TAG ID": "11661",
                                    "TAG NAME": "female-writer",
                                    "count": "2"
                                },
                                {
                                    "TAG ID": "4309",
                                    "TAG NAME": "best-adult-female-friendship-books",
                                    "count": "1"
                                },
                                {
                                    "TAG ID": "11651",
                                    "TAG NAME": "female-genre-authors",
                                    "count": "1"
                                },
                                {
                                    "TAG ID": "11654",
                                    "TAG NAME": "female-persuasion",
                                    "count": "1"
                                },
                                {
                                    "TAG ID": "15331",
                                    "TAG NAME": "important-female-authors",
                                    "count": "1"
                                },
                                {
                                    "TAG ID": "17079",
                                    "TAG NAME": "kick-ass-female",
                                    "count": "1"
                                },
                                {
                                    "TAG ID": "24455",
                                    "TAG NAME": "protagonist-female",
                                    "count": "1"
                                },
                                {
                                    "TAG ID": "28832",
                                    "TAG NAME": "strong-female-character-s",
                                    "count": "1"
                                },
                                {
                                    "TAG ID": "28836",
                                    "TAG NAME": "strong-female-supporting-characters",
                                    "count": "1"
                                },
                                {
                                    "TAG ID": "29324",
                                    "TAG NAME": "tbr-ax-female",
                                    "count": "1"
                                }
                            ]
                        },
                        "text/html": [
                            "<table>",
                            "<tr><th>TAG ID</th><th>TAG NAME</th><th>count</th></tr>",
                            "<tr><td>11643</td><td>female-author</td><td>17999</td></tr>",
                            "<tr><td>11644</td><td>female-authors</td><td>13690</td></tr>",
                            "<tr><td>11658</td><td>female-protagonist</td><td>2554</td></tr>",
                            "<tr><td>11646</td><td>female-detective</td><td>302</td></tr>",
                            "<tr><td>11656</td><td>female-pov</td><td>155</td></tr>",
                            "<tr><td>11662</td><td>female-writers</td><td>147</td></tr>",
                            "<tr><td>11642</td><td>female</td><td>133</td></tr>",
                            "<tr><td>11652</td><td>female-lead</td><td>61</td></tr>",
                            "<tr><td>28834</td><td>strong-female-lead</td><td>61</td></tr>",
                            "<tr><td>11647</td><td>female-detectives</td><td>59</td></tr>",
                            "<tr><td>3514</td><td>author-female</td><td>47</td></tr>",
                            "<tr><td>28833</td><td>strong-female-characters</td><td>30</td></tr>",
                            "<tr><td>28830</td><td>strong-female</td><td>21</td></tr>",
                            "<tr><td>11650</td><td>female-friendship</td><td>14</td></tr>",
                            "<tr><td>11655</td><td>female-pi</td><td>10</td></tr>",
                            "<tr><td>11659</td><td>female-serial-killer</td><td>8</td></tr>",
                            "<tr><td>28831</td><td>strong-female-character</td><td>7</td></tr>",
                            "<tr><td>1741</td><td>afghan-female-entrepreneur-under-ta</td><td>5</td></tr>",
                            "<tr><td>28835</td><td>strong-female-protagonist</td><td>5</td></tr>",
                            "<tr><td>11648</td><td>female-doctor</td><td>3</td></tr>",
                            "<tr><td>11653</td><td>female-main-character</td><td>3</td></tr>",
                            "<tr><td>11660</td><td>female-spy</td><td>3</td></tr>",
                            "<tr><td>11645</td><td>female-biographies</td><td>2</td></tr>",
                            "<tr><td>11649</td><td>female-fiction</td><td>2</td></tr>",
                            "<tr><td>11657</td><td>female-povs</td><td>2</td></tr>",
                            "<tr><td>11661</td><td>female-writer</td><td>2</td></tr>",
                            "<tr><td>4309</td><td>best-adult-female-friendship-books</td><td>1</td></tr>",
                            "<tr><td>11651</td><td>female-genre-authors</td><td>1</td></tr>",
                            "<tr><td>11654</td><td>female-persuasion</td><td>1</td></tr>",
                            "<tr><td>15331</td><td>important-female-authors</td><td>1</td></tr>",
                            "<tr><td>17079</td><td>kick-ass-female</td><td>1</td></tr>",
                            "<tr><td>24455</td><td>protagonist-female</td><td>1</td></tr>",
                            "<tr><td>28832</td><td>strong-female-character-s</td><td>1</td></tr>",
                            "<tr><td>28836</td><td>strong-female-supporting-characters</td><td>1</td></tr>",
                            "<tr><td>29324</td><td>tbr-ax-female</td><td>1</td></tr>",
                            "</table>"
                        ]
                    }
                }
            ],
            "execution_count": 16
        },
        {
            "cell_type": "markdown",
            "source": [
                "### **Which keyword(s) and tag(s) would you like to explore more?**\n",
                "\n",
                "Female and strong-female"
            ],
            "metadata": {
                "azdata_cell_guid": "e9acd8b5-a62b-4ac0-bd07-19915b379ba6"
            },
            "attachments": {}
        },
        {
            "cell_type": "markdown",
            "source": [
                "### **Write a query to return authors, titles, ratings and** **selected tag(s)\\_id.**"
            ],
            "metadata": {
                "azdata_cell_guid": "59b84464-c0bc-4dac-9e02-0c803765b063"
            }
        },
        {
            "cell_type": "code",
            "source": [
                ""
            ],
            "metadata": {
                "azdata_cell_guid": "51ffeaaf-6dde-4906-95f3-eb8757babf27",
                "tags": [],
                "language": "sql"
            },
            "outputs": [
                {
                    "output_type": "error",
                    "evalue": "Msg 207, Level 16, State 1, Line 1\r\nInvalid column name 'tag_id'.",
                    "ename": "",
                    "traceback": []
                },
                {
                    "output_type": "display_data",
                    "data": {
                        "text/html": "Total execution time: 00:00:00.047"
                    },
                    "metadata": {}
                }
            ],
            "execution_count": 26
        },
        {
            "cell_type": "markdown",
            "source": [
                "### **Record your thoughts about why you wrote the query the way you did.**"
            ],
            "metadata": {
                "azdata_cell_guid": "1e19a72c-1bca-446b-a0c7-a8efbc35dcf1"
            }
        },
        {
            "cell_type": "markdown",
            "source": [
                "# Part 2: Choose Another Month\n",
                "\n",
                "Choose another month and plan at least 2 events / promotions and answer the following questions.\n",
                "\n",
                "Which month did you choose?  \n",
                "\n",
                "What 2 events / promotions are you highlighting?\n",
                "\n",
                "> 1. March- Dr. Seuss Day\n",
                "> 2. October- Halloween"
            ],
            "metadata": {
                "azdata_cell_guid": "3eaf376d-9de3-4553-a9d0-9caf74ee3d6a"
            },
            "attachments": {}
        },
        {
            "cell_type": "markdown",
            "source": [
                "# Part 3: Summarize your Work\n",
                "\n",
                "For each event write at least one query that joins any two tables in the BooksDB to support your choice and record you thoughts as to why you used the paticlular query. At least one of your queries needs to include a HAVING clause."
            ],
            "metadata": {
                "azdata_cell_guid": "1ba1363a-4f02-4962-a95a-93b80c5926b1"
            }
        },
        {
            "cell_type": "code",
            "source": [
                "-- Event 1 Query\r\n",
                "SELECT bk.title, bk.authors, bk.average_rating, bt.tag_id\r\n",
                "FROM BooksDB.dbo.book_tags AS bk\r\n",
                "INNER JOIN Books.dbo.book_tags AS bt \r\n",
                "ON bk.book_id=bt.goodreads_book_id\r\n",
                "WHERE tag_id=15817;"
            ],
            "metadata": {
                "azdata_cell_guid": "f50d32ce-4cb2-4af2-acb1-607777a76cf8",
                "language": "sql"
            },
            "outputs": [
                {
                    "output_type": "error",
                    "evalue": "Msg 208, Level 16, State 1, Line 2\r\nInvalid object name 'Books.dbo.book_tags'.",
                    "ename": "",
                    "traceback": []
                },
                {
                    "output_type": "display_data",
                    "data": {
                        "text/html": "Total execution time: 00:00:00.042"
                    },
                    "metadata": {}
                }
            ],
            "execution_count": 27
        },
        {
            "cell_type": "code",
            "source": [],
            "metadata": {
                "azdata_cell_guid": "5606f7f2-c46b-42d3-ac64-7ae21c3394f8",
                "language": "sql"
            },
            "outputs": [],
            "execution_count": null
        },
        {
            "cell_type": "markdown",
            "source": [
                "### **Summary of event 1:**\n",
                "\n",
                "Double Click to edit."
            ],
            "metadata": {
                "azdata_cell_guid": "3bc72d4c-077b-42d3-9528-9aff8e7b6cf3"
            }
        },
        {
            "cell_type": "code",
            "source": [
                "-- Event 2 Query"
            ],
            "metadata": {
                "azdata_cell_guid": "dca0a98f-065f-4b0e-9d93-fcb01cad668c",
                "language": "sql"
            },
            "outputs": [],
            "execution_count": null
        },
        {
            "cell_type": "code",
            "source": [],
            "metadata": {
                "azdata_cell_guid": "3aaae3a8-eff7-4b37-8970-2d913a67239b",
                "language": "sql"
            },
            "outputs": [],
            "execution_count": null
        },
        {
            "cell_type": "markdown",
            "source": [
                "### **Summary of event 2:**\n",
                "\n",
                "Double Click to edit."
            ],
            "metadata": {
                "azdata_cell_guid": "99d518dc-cd8b-42d6-9a9d-708771c9aa99"
            }
        }
    ]
}